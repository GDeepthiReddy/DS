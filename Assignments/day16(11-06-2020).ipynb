{
 "cells": [
  {
   "cell_type": "markdown",
   "metadata": {},
   "source": [
    "## Assignment(day-16:11-6-20)"
   ]
  },
  {
   "cell_type": "markdown",
   "metadata": {},
   "source": [
    "### Q-1:  https://www.codechef.com/problems/RECNDSTR \n",
    "#### Chef has a string S consisting of lowercase English characters. Chef defined functions left shift L(X) and right shift R(X) as follows.\n",
    "    L(X) is defined as shifting all characters of string X one step towards left and moving the first character to the end.\n",
    "    R(X) is defined as shifting all characters of string X one step towards the right and moving the last character to the beginning.\n",
    "    For example, L(\"abcd\") = \"bcda\" and R(\"abcd\") = \"dabc\"\n",
    "    Chef wants to find out whether there exists a string V of the same length as S such that both L(V)=S and R(V)=S holds."
   ]
  },
  {
   "cell_type": "code",
   "execution_count": 1,
   "metadata": {},
   "outputs": [
    {
     "name": "stdout",
     "output_type": "stream",
     "text": [
      "4\n",
      "a\n",
      "ab\n",
      "abcd\n",
      "aaaaa\n",
      "YES\n",
      "YES\n",
      "NO\n",
      "YES\n"
     ]
    }
   ],
   "source": [
    "#SOLUTION-1:\n",
    "def L(x):\n",
    "    return x[1:]+x[0]\n",
    "def R(x):\n",
    "    return x[-1]+x[0:-1]\n",
    "n=int(input())\n",
    "list1 = [input() for i in range(n)]\n",
    "for x in list1:\n",
    "    if L(x) == R(x):\n",
    "        print(\"YES\")\n",
    "    else:\n",
    "        print(\"NO\")    "
   ]
  },
  {
   "cell_type": "markdown",
   "metadata": {},
   "source": [
    "### Q-2:  https://www.hackerrank.com/challenges/beautiful-days-at-the-movies/problem\n",
    "#### Lily likes to play games with integers. She has created a new game where she determines the difference between a number and its reverse. For instance, given the number 12 , its reverse is 21 . Their difference is 9 . The number 120 reversed is 210, and their difference is 99.\n",
    "#### She decides to apply her game to decision making. She will look at a numbered range of days and will only go to a movie on a beautiful day.\n",
    "#### Given a range of numbered days, [i...j] and a number K, determine the number of days in the range that are beautiful. Beautiful numbers are defined as numbers where |i-reverse(i)| is evenly divisible by K. If a day's value is a beautiful number, it is a beautiful day. Print the number of beautiful days in the range.¶"
   ]
  },
  {
   "cell_type": "code",
   "execution_count": 17,
   "metadata": {},
   "outputs": [
    {
     "name": "stdout",
     "output_type": "stream",
     "text": [
      "20 23 6\n",
      "2\n"
     ]
    }
   ],
   "source": [
    "#SOLUTION-2:\n",
    "i,j,k=map(int,input().split())\n",
    "c=0\n",
    "for n in range(i,j+1):\n",
    "    if((n-int(str(n)[::-1]))%2==0):\n",
    "        c+=1\n",
    "print(c)"
   ]
  },
  {
   "cell_type": "markdown",
   "metadata": {},
   "source": [
    "### Q-3:  https://www.hackerrank.com/challenges/birthday-cake-candles/problem\n",
    "#### You are in charge of the cake for your niece's birthday and have decided the cake will have one candle for each year of her total age. When she blows out the candles, she’ll only be able to blow out the tallest ones. Your task is to find out how many candles she can successfully blow out.\n",
    "#### For example, if your niece is turning 4 years old, and the cake will have 4 candles of height 4 ,4 ,1 ,3 , she will be able to blow out  2 candles successfully, since the tallest candles are of height  4 and there are 2 such  candles."
   ]
  },
  {
   "cell_type": "code",
   "execution_count": 2,
   "metadata": {},
   "outputs": [
    {
     "name": "stdout",
     "output_type": "stream",
     "text": [
      "4\n",
      "3 2 1 3\n",
      "2\n"
     ]
    }
   ],
   "source": [
    "# SOLUTION-3:\n",
    "N=int(input())\n",
    "V=list(map(int,input().split()))\n",
    "print(V.count(max(V)))"
   ]
  },
  {
   "cell_type": "markdown",
   "metadata": {},
   "source": [
    "### Q-4(infyTQ) : Consider a non-empty array inarr containing non-zero positive single digit integers separated by “,” (comma).Print a string based on the below logic:\n",
    "- From all possible unique three digit number combinations with the elements of inarr\n",
    "- Identify the maximum number maxnum among the three digit combinations formed.\n",
    "- Print the maxnum followed by the total number of unique digit combinations formed,separating them with a “,” (comma)\n",
    "#### Assumption: inarr will contain at least 3 elements\n",
    "#### Note : An element present at a particular index should not be considered more than once while forming a combination."
   ]
  },
  {
   "cell_type": "code",
   "execution_count": 19,
   "metadata": {},
   "outputs": [
    {
     "name": "stdout",
     "output_type": "stream",
     "text": [
      "1,2,1\n",
      "211,3\n"
     ]
    }
   ],
   "source": [
    "#SOLUTION-4:\n",
    "import itertools as it\n",
    "a=list(map(str,input().split(',')))\n",
    "p = it.permutations(a, 3)\n",
    "x = list(set(p))               \n",
    "l = []\n",
    "for i in x:                          \n",
    "    p = ''.join(i)                   \n",
    "    l.append(int(p))\n",
    "l.sort()\n",
    "print(str(l[-1])+','+str(len(l)))"
   ]
  },
  {
   "cell_type": "markdown",
   "metadata": {},
   "source": [
    "### Q-5(infy TQ) : For a given positive number num,identify the palindrome formed by performing the following operations\n",
    "- Add num and its reverse\n",
    "- Check whether the sum is palindrome or not.If not,add the sum and its reverse and repeat the process until a palindrome is obtained.\n",
    "#### Input format : \n",
    "    Read num from the standard input stream\n",
    "#### Output format: \n",
    "    print the palindrome calculated to the standard output stream"
   ]
  },
  {
   "cell_type": "code",
   "execution_count": 8,
   "metadata": {},
   "outputs": [
    {
     "name": "stdout",
     "output_type": "stream",
     "text": [
      "545\n",
      "9339\n"
     ]
    }
   ],
   "source": [
    "#SOLUTION-5:\n",
    "## CODE-1:\n",
    "\n",
    "def rev_number(n):\n",
    "  s = 0\n",
    "  while True:\n",
    "    k = str(n)\n",
    "    if k == k[::-1]:\n",
    "      break\n",
    "    else:\n",
    "      m = int(k[::-1])\n",
    "      n += m\n",
    "      s += 1\n",
    "  return n \n",
    "\n",
    "print(rev_number(124))\n",
    "print(rev_number(195))"
   ]
  },
  {
   "cell_type": "code",
   "execution_count": 21,
   "metadata": {},
   "outputs": [
    {
     "name": "stdout",
     "output_type": "stream",
     "text": [
      "124\n",
      "545\n"
     ]
    }
   ],
   "source": [
    "#SOLUTION-5\n",
    "## CODE-2:\n",
    "n=int(input())\n",
    "while(True):\n",
    "    n=str(n)\n",
    "    if(n ==n[::-1]):\n",
    "        print(n)\n",
    "        break\n",
    "    else:\n",
    "        n=int(n)+int(n[::-1])"
   ]
  },
  {
   "cell_type": "markdown",
   "metadata": {},
   "source": [
    "### Q-6: https://www.codechef.com/problems/SLAEL \n",
    "#### Find the length of the longest contiguous segment in an array, in which if a given element K is inserted, K becomes the second largest element of that subarray."
   ]
  },
  {
   "cell_type": "code",
   "execution_count": 20,
   "metadata": {},
   "outputs": [
    {
     "name": "stdout",
     "output_type": "stream",
     "text": [
      "2\n",
      "5 3\n",
      "2 4 2 4 2\n",
      "output:\n",
      " 5 \n",
      "\n",
      "8 5\n",
      "9 3 5 7 8 11 17 2\n",
      "output:\n",
      " 3 \n",
      "\n"
     ]
    }
   ],
   "source": [
    "#SOLUTION-6:\n",
    "## CODE-1:\n",
    "t=int(input())\n",
    "while(t>0):\n",
    "    n,k=map(int,input().split())\n",
    "    a=list(map(int,input().split()))\n",
    "    gre=0\n",
    "    l=0\n",
    "    pos=-1\n",
    "    long=0\n",
    "    for i in range(n):\n",
    "        if a[i]>k and gre!=0 and a[i]!=gre:\n",
    "            gre = a[i]\n",
    "            if long<l:\n",
    "                long=l\n",
    "            l = i - pos\n",
    "            pos=i\n",
    "            continue\n",
    "        elif a[i]>k:\n",
    "            gre = a[i]\n",
    "            pos=i\n",
    "        l+=1\n",
    "    if long<l:\n",
    "        long=l\n",
    "    t-=1\n",
    "    print(\"output:\\n\",long,\"\\n\")"
   ]
  },
  {
   "cell_type": "code",
   "execution_count": 22,
   "metadata": {},
   "outputs": [
    {
     "name": "stdout",
     "output_type": "stream",
     "text": [
      "2\n",
      "5 3\n",
      "2 4 2 4 2\n",
      "5\n",
      "8 5\n",
      "9 3 5 7 8 11 17 2\n",
      "3\n"
     ]
    }
   ],
   "source": [
    "#SOLUTION-6:\n",
    "## CODE-2:\n",
    "t=int(input())\n",
    "while t:\n",
    "    a=input().split()\n",
    "    n=int(a[0])\n",
    "    k=int(a[1])\n",
    "    lst=input().split()\n",
    "    for i in range(n):\n",
    "        lst[i] = int(lst[i])\n",
    "    greater = 0\n",
    "    length=0\n",
    "    pos = -1\n",
    "    allTimeLong=0\n",
    "    for i in range(n):\n",
    "        if lst[i]>k and greater!=0 and lst[i]!=greater:\n",
    "            greater = lst[i]\n",
    "            if allTimeLong<length:\n",
    "                allTimeLong=length\n",
    "            length = i - pos\n",
    "            pos=i\n",
    "            continue\n",
    "        elif lst[i]>k:\n",
    "            greater = lst[i]\n",
    "            pos=i\n",
    "        length+=1\n",
    "    if allTimeLong<length:\n",
    "        allTimeLong=length\n",
    "    t-=1\n",
    "    print(allTimeLong)"
   ]
  },
  {
   "cell_type": "code",
   "execution_count": null,
   "metadata": {},
   "outputs": [],
   "source": []
  }
 ],
 "metadata": {
  "kernelspec": {
   "display_name": "Python 3",
   "language": "python",
   "name": "python3"
  },
  "language_info": {
   "codemirror_mode": {
    "name": "ipython",
    "version": 3
   },
   "file_extension": ".py",
   "mimetype": "text/x-python",
   "name": "python",
   "nbconvert_exporter": "python",
   "pygments_lexer": "ipython3",
   "version": "3.7.4"
  }
 },
 "nbformat": 4,
 "nbformat_minor": 2
}
