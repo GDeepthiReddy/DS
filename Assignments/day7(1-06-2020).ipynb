{
 "cells": [
  {
   "cell_type": "markdown",
   "metadata": {},
   "source": [
    "### Assignment(day7:1-6-20)"
   ]
  },
  {
   "cell_type": "code",
   "execution_count": 5,
   "metadata": {},
   "outputs": [
    {
     "name": "stdout",
     "output_type": "stream",
     "text": [
      "How many passwords do you want to generate? 4\n",
      "Generating 4 passwords\n",
      "Minimum length of password should be 3\n",
      "Enter the length of Password #1 5\n",
      "Enter the length of Password #2 9\n",
      "Enter the length of Password #3 12\n",
      "Enter the length of Password #4 23\n",
      "Password #1 = u8vuG\n",
      "Password #2 = ond8Dazgb\n",
      "Password #3 = cnm3fidcVfrr\n",
      "Password #4 = hid6rwxuyoisTrwiysllphx\n"
     ]
    }
   ],
   "source": [
    "import random,string\n",
    "\n",
    "def generatePassword(pwlength):\n",
    "    adjectives = [\"Beautiful\",\"Furry\",\"Sixteen\",\"Happy\",\"Haster\",\"Cool\",\"Rich\",\"Simple\"]\n",
    "    alphabet = \"abcdefghijklmnopqrstuvwxyz\"\n",
    "    noun = [\"teddy\",\"cat\",\"laptop\",\"mouse\",\"phone\",\"pillow\",\"dog\"]\n",
    "    passwords = [] \n",
    "\n",
    "    for i in pwlength:\n",
    "        \n",
    "        password = \"\" \n",
    "        for j in range(i):\n",
    "            next_letter_index = random.randrange(len(alphabet))\n",
    "            password = password + alphabet[next_letter_index]\n",
    "        \n",
    "        password = replaceWithNumber(password)\n",
    "        password = replaceWithUppercaseLetter(password)\n",
    "        \n",
    "        passwords.append(password) \n",
    "    \n",
    "    return passwords\n",
    "\n",
    "\n",
    "def replaceWithNumber(pword):\n",
    "    for i in range(random.randrange(1,3)):\n",
    "        replace_index = random.randrange(len(pword)//2)\n",
    "        pword = pword[0:replace_index] + str(random.randrange(10)) + pword[replace_index+1:]\n",
    "        return pword\n",
    "\n",
    "\n",
    "def replaceWithUppercaseLetter(pword):\n",
    "    for i in range(random.randrange(1,3)):\n",
    "        replace_index = random.randrange(len(pword)//2,len(pword))\n",
    "        pword = pword[0:replace_index] + pword[replace_index].upper() + pword[replace_index+1:]\n",
    "        return pword\n",
    "\n",
    "\n",
    "\n",
    "def main():\n",
    "    \n",
    "    numPasswords = int(input(\"How many passwords do you want to generate? \"))\n",
    "    \n",
    "    print(\"Generating \" +str(numPasswords)+\" passwords\")\n",
    "    \n",
    "    passwordLengths = []\n",
    "\n",
    "    print(\"Minimum length of password should be 3\")\n",
    "\n",
    "    for i in range(numPasswords):\n",
    "        length = int(input(\"Enter the length of Password #\" + str(i+1) + \" \"))\n",
    "        if length<3:\n",
    "            length = 3\n",
    "        passwordLengths.append(length)\n",
    "    \n",
    "    \n",
    "    Password = generatePassword(passwordLengths)\n",
    "\n",
    "    for i in range(numPasswords):\n",
    "        print (\"Password #\"+str(i+1)+\" = \" + Password[i])\n",
    "\n",
    "\n",
    "\n",
    "main()"
   ]
  },
  {
   "cell_type": "code",
   "execution_count": 7,
   "metadata": {},
   "outputs": [
    {
     "name": "stdout",
     "output_type": "stream",
     "text": [
      "Coolphone97<\n",
      "Are you satisfied whith password ?\n",
      "Type 'yes' or 'no' \n",
      "no\n",
      "Are you satisfied whith password ?\n",
      "Type 'yes' or 'no' \n",
      "Hastermouse86[\n",
      "yes\n"
     ]
    }
   ],
   "source": [
    "import random,string\n",
    "adjectives = [\"Beautiful\",\"Furry\",\"Sixteen\",\"Happy\",\"Haster\",\"Cool\",\"Rich\",\"Simple\"]\n",
    "noun = [\"bottle\",\"cat\",\"laptop\",\"mouse\",\"phone\",\"pillow\",\"dog\"]\n",
    "password = random.choice(adjectives)+random.choice(noun)+str(random.randint(10,100))+random.choice(string.punctuation)\n",
    "print(password)\n",
    "print(\"Are you satisfied whith password ?\")\n",
    "print(\"Type 'yes' or 'no' \")\n",
    "while True:\n",
    "    inp = input()\n",
    "    if inp == \"yes\".lower():\n",
    "        break\n",
    "    elif inp == \"no\".lower():\n",
    "        password = random.choice(adjectives)+random.choice(noun)+str(random.randint(10,100))+random.choice(string.punctuation)\n",
    "        print(\"Are you satisfied whith password ?\")\n",
    "        print(\"Type 'yes' or 'no' \")\n",
    "        print(password)\n",
    "    else: \n",
    "        print(\"enter yes or no\")"
   ]
  },
  {
   "cell_type": "code",
   "execution_count": null,
   "metadata": {},
   "outputs": [],
   "source": []
  }
 ],
 "metadata": {
  "kernelspec": {
   "display_name": "Python 3",
   "language": "python",
   "name": "python3"
  },
  "language_info": {
   "codemirror_mode": {
    "name": "ipython",
    "version": 3
   },
   "file_extension": ".py",
   "mimetype": "text/x-python",
   "name": "python",
   "nbconvert_exporter": "python",
   "pygments_lexer": "ipython3",
   "version": "3.7.4"
  }
 },
 "nbformat": 4,
 "nbformat_minor": 2
}
